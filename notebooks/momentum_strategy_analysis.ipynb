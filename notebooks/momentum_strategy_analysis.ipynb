{
 "cells": [
  {
   "cell_type": "markdown",
   "metadata": {},
   "source": [
    "# Analyse de la Stratégie Long-Short basée sur le Momentum\n",
    "\n",
    "Ce notebook analyse et visualise les résultats de notre stratégie de trading long-short basée sur le momentum. La stratégie prend des positions longues sur les actions ayant le momentum le plus faible et des positions courtes sur les actions ayant le momentum le plus élevé, suivant le principe de réversion à la moyenne."
   ]
  },
  {
   "cell_type": "markdown",
   "metadata": {},
   "source": [
    "## 1. Configuration et chargement des modules"
   ]
  },
  {
   "cell_type": "code",
   "execution_count": null,
   "metadata": {},
   "outputs": [],
   "source": [
    "import sys\n",
    "import os\n",
    "import pandas as pd\n",
    "import numpy as np\n",
    "import matplotlib.pyplot as plt\n",
    "import seaborn as sns\n",
    "from scipy import stats\n",
    "from datetime import datetime, timedelta\n",
    "\n",
    "# Configuration pour les visualisations\n",
    "%matplotlib inline\n",
    "plt.style.use('seaborn-v0_8-whitegrid')\n",
    "sns.set_style('whitegrid')\n",
    "plt.rcParams['figure.figsize'] = (15, 8)\n",
    "plt.rcParams['font.size'] = 12\n",
    "\n",
    "# Ajout du dossier parent au chemin pour pouvoir importer les modules\n",
    "sys.path.append(os.path.dirname(os.path.dirname(os.path.abspath('__file__'))))"
   ]
  },
  {
   "cell_type": "code",
   "execution_count": null,
   "metadata": {},
   "outputs": [],
   "source": [
    "# Import des modules de notre plateforme\n",
    "from momentum_strategy import MomentumStrategy\n",
    "from data_loader import DataLoader\n",
    "from backtest import Backtest\n",
    "from visualization import plot_strategy_performance, plot_position_evolution, plot_momentum_heat_map, plot_correlation_matrix"
   ]
  },
  {
   "cell_type": "markdown",
   "metadata": {},
   "source": [
    "## 2. Définition des paramètres de la stratégie"
   ]
  },
  {
   "cell_type": "code",
   "execution_count": null,
   "metadata": {},
   "outputs": [],
   "source": [
    "# Liste des actifs mentionnés dans le document\n",
    "assets = ['BA', 'PEP', 'LMT', 'AAPL', 'JNJ', 'JPM', 'BAC', 'LLY', 'CAR']\n",
    "\n",
    "# Période d'analyse\n",
    "start_date = '2024-12-01'\n",
    "end_date = '2025-04-30'\n",
    "\n",
    "# Paramètres de la stratégie\n",
    "momentum_period = 30  # Période pour le calcul du momentum (en jours)\n",
    "forward_return_days = 5  # Jours pour calculer les rendements futurs\n",
    "quantiles = (0.2, 0.8)  # Quantiles pour les positions longues (20%) et courtes (80%)"
   ]
  },
  {
   "cell_type": "markdown",
   "metadata": {},
   "source": [
    "## 3. Téléchargement et préparation des données"
   ]
  },
  {
   "cell_type": "code",
   "execution_count": null,
   "metadata": {},
   "outputs": [],
   "source": [
    "# Création de l'instance de la stratégie\n",
    "strategy = MomentumStrategy(assets)\n",
    "\n",
    "# Téléchargement des données\n",
    "data = strategy.download_data(start_date, end_date)\n",
    "\n",
    "# Affichage des premières lignes des données\n",
    "data.head()"
   ]
  },
  {
   "cell_type": "code",
   "execution_count": null,
   "metadata": {},
   "outputs": [],
   "source": [
    "# Visualisation de l'évolution des prix\n",
    "normalized_prices = data / data.iloc[0]\n",
    "plt.figure(figsize=(15, 8))\n",
    "normalized_prices.plot()\n",
    "plt.title('Évolution des Prix Normalisés')\n",
    "plt.ylabel('Prix (normalisé à 1 au début)')\n",
    "plt.legend(loc='center left', bbox_to_anchor=(1, 0.5))\n",
    "plt.grid(True)\n",
    "plt.show()"
   ]
  },
  {
   "cell_type": "markdown",
   "metadata": {},
   "source": [
    "## 4. Calcul du momentum et des rendements futurs"
   ]
  },
  {
   "cell_type": "code",
   "execution_count": null,
   "metadata": {},
   "outputs": [],
   "source": [
    "# Calcul du momentum\n",
    "momentum_scores = strategy.calculate_momentum(momentum_period)\n",
    "\n",
    "# Affichage des scores de momentum récents\n",
    "momentum_scores.tail()"
   ]
  },
  {
   "cell_type": "code",
   "execution_count": null,
   "metadata": {},
   "outputs": [],
   "source": [
    "# Calcul des rendements futurs\n",
    "returns = strategy.calculate_forward_returns(forward_return_days)\n",
    "\n",
    "# Affichage des rendements futurs récents\n",
    "returns.tail()"
   ]
  },
  {
   "cell_type": "code",
   "execution_count": null,
   "metadata": {},
   "outputs": [],
   "source": [
    "# Visualisation des scores de momentum sous forme de heatmap\n",
    "heatmap_fig = plot_momentum_heat_map(momentum_scores, window=10, figsize=(15, 8))\n",
    "plt.show()"
   ]
  },
  {
   "cell_type": "markdown",
   "metadata": {},
   "source": [
    "## 5. Analyse de la corrélation entre momentum et rendements futurs"
   ]
  },
  {
   "cell_type": "code",
   "execution_count": null,
   "metadata": {},
   "outputs": [],
   "source": [
    "# Calcul des corrélations\n",
    "correlations = strategy.calculate_correlations()\n",
    "correlations"
   ]
  },
  {
   "cell_type": "code",
   "execution_count": null,
   "metadata": {},
   "outputs": [],
   "source": [
    "# Visualisation des corrélations\n",
    "plt.figure(figsize=(15, 7))\n",
    "plt.bar(range(len(correlations)), correlations['Correlation'])\n",
    "plt.xticks(range(len(correlations)), correlations.index, rotation=90)\n",
    "plt.axhline(0, color='black', linestyle='--')\n",
    "plt.title('Corrélations Momentum-Rendements par Action')\n",
    "plt.ylabel('Corrélation de Spearman')\n",
    "plt.tight_layout()\n",
    "plt.show()"
   ]
  },
  {
   "cell_type": "code",
   "execution_count": null,
   "metadata": {},
   "outputs": [],
   "source": [
    "# Visualisation de la matrice de corrélation des rendements\n",
    "corr_fig = plot_correlation_matrix(returns)\n",
    "plt.show()"
   ]
  },
  {
   "cell_type": "markdown",
   "metadata": {},
   "source": [
    "## 6. Mise en œuvre de la stratégie long-short"
   ]
  },
  {
   "cell_type": "code",
   "execution_count": null,
   "metadata": {},
   "outputs": [],
   "source": [
    "# Classement des actifs\n",
    "ranks = strategy.rank_assets()\n",
    "\n",
    "# Affichage des rangs récents\n",
    "ranks.tail()"
   ]
  },
  {
   "cell_type": "code",
   "execution_count": null,
   "metadata": {},
   "outputs": [],
   "source": [
    "# Création du portefeuille long-short\n",
    "long_portfolio, short_portfolio = strategy.create_long_short_portfolio(ranks, quantiles)\n",
    "\n",
    "# Affichage des positions longues récentes\n",
    "print(\"Positions longues récentes:\")\n",
    "long_portfolio.tail()"
   ]
  },
  {
   "cell_type": "code",
   "execution_count": null,
   "metadata": {},
   "outputs": [],
   "source": [
    "# Affichage des positions courtes récentes\n",
    "print(\"Positions courtes récentes:\")\n",
    "short_portfolio.tail()"
   ]
  },
  {
   "cell_type": "code",
   "execution_count": null,
   "metadata": {},
   "outputs": [],
   "source": [
    "# Visualisation de l'évolution des positions\n",
    "pos_fig = plot_position_evolution(long_portfolio, short_portfolio)\n",
    "plt.show()"
   ]
  },
  {
   "cell_type": "markdown",
   "metadata": {},
   "source": [
    "## 7. Calcul et analyse des rendements de la stratégie"
   ]
  },
  {
   "cell_type": "code",
   "execution_count": null,
   "metadata": {},
   "outputs": [],
   "source": [
    "# Calcul des rendements de la stratégie\n",
    "strategy_returns = strategy.calculate_strategy_returns(long_portfolio, short_portfolio)\n",
    "\n",
    "# Affichage des rendements récents\n",
    "strategy_returns.tail()"
   ]
  },
  {
   "cell_type": "code",
   "execution_count": null,
   "metadata": {},
   "outputs": [],
   "source": [
    "# Visualisation des rendements cumulatifs\n",
    "plt.figure(figsize=(15, 7))\n",
    "cumulative_returns = (1 + strategy_returns).cumprod()\n",
    "cumulative_returns.plot()\n",
    "plt.title('Rendements Cumulatifs de la Stratégie')\n",
    "plt.ylabel('Rendements Cumulatifs')\n",
    "plt.grid(True)\n",
    "plt.show()"
   ]
  },
  {
   "cell_type": "code",
   "execution_count": null,
   "metadata": {},
   "outputs": [],
   "source": [
    "# Statistiques descriptives des rendements\n",
    "print(\"Statistiques descriptives des rendements:\")\n",
    "print(strategy_returns.describe())\n",
    "\n",
    "# Calcul des métriques de performance\n",
    "total_return = cumulative_returns.iloc[-1] - 1\n",
    "annualized_return = (1 + total_return) ** (252 / len(strategy_returns)) - 1\n",
    "volatility = strategy_returns.std() * np.sqrt(252)\n",
    "sharpe_ratio = annualized_return / volatility if volatility != 0 else 0\n",
    "max_drawdown = (cumulative_returns / cumulative_returns.cummax() - 1).min()\n",
    "win_rate = (strategy_returns > 0).mean()\n",
    "\n",
    "print(\"\\nMétriques de performance:\")\n",
    "print(f\"Rendement total: {total_return:.2%}\")\n",
    "print(f\"Rendement annualisé: {annualized_return:.2%}\")\n",
    "print(f\"Volatilité annualisée: {volatility:.2%}\")\n",
    "print(f\"Ratio de Sharpe: {sharpe_ratio:.2f}\")\n",
    "print(f\"Drawdown maximum: {max_drawdown:.2%}\")\n",
    "print(f\"Taux de réussite: {win_rate:.2%}\")"
   ]
  },
  {
   "cell_type": "code",
   "execution_count": null,
   "metadata": {},
   "outputs": [],
   "source": [
    "# Distribution des rendements\n",
    "plt.figure(figsize=(15, 7))\n",
    "sns.histplot(strategy_returns, kde=True, bins=30)\n",
    "plt.axvline(0, color='black', linestyle='--')\n",
    "plt.title('Distribution des Rendements de la Stratégie')\n",
    "plt.xlabel('Rendement')\n",
    "plt.ylabel('Fréquence')\n",
    "plt.grid(True)\n",
    "plt.show()"
   ]
  },
  {
   "cell_type": "markdown",
   "metadata": {},
   "source": [
    "## 8. Backtest complet avec benchmark"
   ]
  },
  {
   "cell_type": "code",
   "execution_count": null,
   "metadata": {},
   "outputs": [],
   "source": [
    "# Exécution d'un backtest complet\n",
    "backtest = Backtest(strategy, start_date, end_date)\n",
    "results = backtest.run(\n",
    "    momentum_period=momentum_period,\n",
    "    forward_return_days=forward_return_days,\n",
    "    quantiles=quantiles,\n",
    "    transaction_cost=0.001\n",
    ")"
   ]
  },
  {
   "cell_type": "code",
   "execution_count": null,
   "metadata": {},
   "outputs": [],
   "source": [
    "# Affichage du résumé des performances\n",
    "backtest.print_performance_summary()"
   ]
  },
  {
   "cell_type": "code",
   "execution_count": null,
   "metadata": {},
   "outputs": [],
   "source": [
    "# Visualisation des performances par rapport au benchmark\n",
    "perf_fig = backtest.plot_performance(figsize=(15, 12))\n",
    "plt.show()"
   ]
  },
  {
   "cell_type": "code",
   "execution_count": null,
   "metadata": {},
   "outputs": [],
   "source": [
    "# Visualisation de l'évolution du portefeuille\n",
    "port_fig = backtest.plot_portfolio_evolution()\n",
    "plt.show()"
   ]
  },
  {
   "cell_type": "markdown",
   "metadata": {},
   "source": [
    "## 9. Analyse de sensibilité aux paramètres"
   ]
  },
  {
   "cell_type": "code",
   "execution_count": null,
   "metadata": {},
   "outputs": [],
   "source": [
    "# Test de différentes périodes de momentum\n",
    "momentum_periods = [5, 10, 20, 30, 60, 90]\n",
    "momentum_results = {}\n",
    "\n",
    "for period in momentum_periods:\n",
    "    strategy.calculate_momentum(period)\n",
    "    strategy.calculate_forward_returns(5)\n",
    "    ranks = strategy.rank_assets()\n",
    "    long_portfolio, short_portfolio = strategy.create_long_short_portfolio(ranks)\n",
    "    returns = strategy.calculate_strategy_returns(long_portfolio, short_portfolio)\n",
    "    momentum_results[period] = returns"
   ]
  },
  {
   "cell_type": "code",
   "execution_count": null,
   "metadata": {},
   "outputs": [],
   "source": [
    "# Comparaison des rendements cumulatifs selon la période de momentum\n",
    "plt.figure(figsize=(15, 7))\n",
    "cum_returns = pd.DataFrame({\n",
    "    f'Momentum {period} jours': (1 + rets).cumprod() for period, rets in momentum_results.items()\n",
    "})\n",
    "cum_returns.plot()\n",
    "plt.title('Rendements Cumulatifs selon la Période de Momentum')\n",
    "plt.ylabel('Rendements Cumulatifs')\n",
    "plt.grid(True)\n",
    "plt.legend()\n",
    "plt.show()"
   ]
  },
  {
   "cell_type": "code",
   "execution_count": null,
   "metadata": {},
   "outputs": [],
   "source": [
    "# Métriques de performance pour chaque période\n",
    "performance_metrics = pd.DataFrame(index=momentum_periods, columns=['Total Return', 'Sharpe Ratio', 'Max Drawdown', 'Win Rate'])\n",
    "\n",
    "for period in momentum_periods:\n",
    "    returns = momentum_results[period]\n",
    "    cum_returns = (1 + returns).cumprod()\n",
    "    total_return = cum_returns.iloc[-1] - 1\n",
    "    volatility = returns.std() * np.sqrt(252)\n",
    "    sharpe_ratio = (returns.mean() * 252) / volatility if volatility != 0 else 0\n",
    "    max_drawdown = (cum_returns / cum_returns.cummax() - 1).min()\n",
    "    win_rate = (returns > 0).mean()\n",
    "    \n",
    "    performance_metrics.loc[period] = [total_return, sharpe_ratio, max_drawdown, win_rate]\n",
    "\n",
    "performance_metrics"
   ]
  },
  {
   "cell_type": "code",
   "execution_count": null,
   "metadata": {},
   "outputs": [],
   "source": [
    "# Visualisation des métriques de performance\n",
    "plt.figure(figsize=(15, 10))\n",
    "\n",
    "# Subplot pour chaque métrique\n",
    "plt.subplot(2, 2, 1)\n",
    "performance_metrics['Total Return'].plot(kind='bar')\n",
    "plt.title('Rendement Total')\n",
    "plt.grid(True, axis='y')\n",
    "\n",
    "plt.subplot(2, 2, 2)\n",
    "performance_metrics['Sharpe Ratio'].plot(kind='bar')\n",
    "plt.title('Ratio de Sharpe')\n",
    "plt.grid(True, axis='y')\n",
    "\n",
    "plt.subplot(2, 2, 3)\n",
    "performance_metrics['Max Drawdown'].plot(kind='bar')\n",
    "plt.title('Drawdown Maximum')\n",
    "plt.grid(True, axis='y')\n",
    "\n",
    "plt.subplot(2, 2, 4)\n",
    "performance_metrics['Win Rate'].plot(kind='bar')\n",
    "plt.title('Taux de Réussite')\n",
    "plt.grid(True, axis='y')\n",
    "\n",
    "plt.tight_layout()\n",
    "plt.show()"
   ]
  },
  {
   "cell_type": "markdown",
   "metadata": {},
   "source": [
    "## 10. Test sur différents univers d'actions"
   ]
  },
  {
   "cell_type": "code",
   "execution_count": null,
   "metadata": {},
   "outputs": [],
   "source": [
    "# Création de différents portfolios\n",
    "portfolios = {\n",
    "    'Original': ['BA', 'PEP', 'LMT', 'AAPL', 'JNJ', 'JPM', 'BAC', 'LLY', 'CAR'],\n",
    "    'Tech': ['AAPL', 'MSFT', 'GOOGL', 'AMZN', 'META', 'NVDA', 'TSLA', 'ADBE', 'CRM'],\n",
    "    'Finance': ['JPM', 'BAC', 'WFC', 'C', 'GS', 'MS', 'BLK', 'AXP', 'V'],\n",
    "    'Healthcare': ['JNJ', 'PFE', 'UNH', 'MRK', 'ABBV', 'TMO', 'ABT', 'DHR', 'BMY']\n",
    "}\n",
    "\n",
    "portfolio_results = {}\n",
    "\n",
    "for name, stocks in portfolios.items():\n",
    "    print(f\"\\nTest sur le portfolio {name}...\")\n",
    "    strat = MomentumStrategy(stocks)\n",
    "    try:\n",
    "        results = strat.backtest('2024-12-01', '2025-04-30', 30, 5)\n",
    "        portfolio_results[name] = results['strategy_returns']\n",
    "        \n",
    "        total_return = results['cumulative_returns'].iloc[-1] - 1\n",
    "        print(f\"Rendement total: {total_return:.2%}\")\n",
    "    except Exception as e:\n",
    "        print(f\"Erreur: {str(e)}\")"
   ]
  },
  {
   "cell_type": "code",
   "execution_count": null,
   "metadata": {},
   "outputs": [],
   "source": [
    "# Comparaison des rendements cumulatifs\n",
    "plt.figure(figsize=(15, 7))\n",
    "cum_returns = pd.DataFrame({\n",
    "    name: (1 + rets).cumprod() for name, rets in portfolio_results.items() if not rets.empty\n",
    "})\n",
    "cum_returns.plot()\n",
    "plt.title('Rendements Cumulatifs par Type de Portfolio')\n",
    "plt.ylabel('Rendements Cumulatifs')\n",
    "plt.grid(True)\n",
    "plt.legend()\n",
    "plt.show()"
   ]
  },
  {
   "cell_type": "markdown",
   "metadata": {},
   "source": [
    "## 11. Conclusion et observations"
   ]
  },
  {
   "cell_type": "markdown",
   "metadata": {},
   "source": [
    "### Observations clés\n",
    "\n",
    "1. **Corrélation Momentum-Rendements :** \n",
    "   - La stratégie repose sur l'hypothèse d'une corrélation négative entre le momentum et les rendements futurs (réversion à la moyenne).\n",
    "   - Nous avons observé que cette corrélation varie selon les actifs, certains montrant une corrélation plus forte que d'autres.\n",
    "\n",
    "2. **Performance de la Stratégie :**\n",
    "   - La stratégie a généré un rendement total de [calculé dans le notebook] sur la période.\n",
    "   - Le ratio de Sharpe de [calculé dans le notebook] indique un bon rapport rendement/risque.\n",
    "\n",
    "3. **Sensibilité aux Paramètres :**\n",
    "   - La période de calcul du momentum a un impact significatif sur les résultats.\n",
    "   - Une période de [identifiée dans le notebook] jours semble optimale pour notre univers d'actions.\n",
    "\n",
    "4. **Comparaison par Secteur :**\n",
    "   - La stratégie performe différemment selon les secteurs.\n",
    "   - Le secteur [identifié dans le notebook] a montré les meilleurs résultats, ce qui suggère que la réversion à la moyenne est plus prononcée dans ce secteur.\n",
    "\n",
    "### Améliorations possibles\n",
    "\n",
    "1. **Filtrage des Actions :**\n",
    "   - Intégrer un filtre de volatilité pour sélectionner les actions avant de les classer par momentum.\n",
    "   - Exclure les actions avec des événements spécifiques (annonces de résultats, fusions, etc.).\n",
    "\n",
    "2. **Pondération Dynamique :**\n",
    "   - Ajuster la pondération des positions en fonction de la force du signal de momentum.\n",
    "   - Intégrer d'autres facteurs comme la volatilité ou la liquidité dans le modèle de pondération.\n",
    "\n",
    "3. **Timing d'Entrée/Sortie :**\n",
    "   - Optimiser la fréquence de rebalancement du portefeuille.\n",
    "   - Intégrer des indicateurs techniques pour améliorer le timing des entrées et sorties.\n",
    "\n",
    "4. **Multi-facteur :**\n",
    "   - Combiner le momentum avec d'autres facteurs comme la valeur, la qualité ou la taille.\n",
    "   - Développer un modèle de scoring composite pour la sélection des actions."
   ]
  }
 ],
 "metadata": {
  "kernelspec": {
   "display_name": "Python 3",
   "language": "python",
   "name": "python3"
  },
  "language_info": {
   "codemirror_mode": {
    "name": "ipython",
    "version": 3
   },
   "file_extension": ".py",
   "mimetype": "text/x-python",
   "name": "python",
   "nbconvert_exporter": "python",
   "pygments_lexer": "ipython3",
   "version": "3.8.10"
  }
 },
 "nbformat": 4,
 "nbformat_minor": 4
}